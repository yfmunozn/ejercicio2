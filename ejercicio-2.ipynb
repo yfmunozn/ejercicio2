{
  "nbformat": 4,
  "nbformat_minor": 0,
  "metadata": {
    "colab": {
      "name": "ejercicio 2",
      "provenance": [],
      "mount_file_id": "15JMfdx42r4kXK9aB6CAuzv91FTXkSezR",
      "authorship_tag": "ABX9TyPhI5Vs9JzDcTKhPITPeb40",
      "include_colab_link": true
    },
    "kernelspec": {
      "name": "python3",
      "display_name": "Python 3"
    },
    "language_info": {
      "name": "python"
    }
  },
  "cells": [
    {
      "cell_type": "markdown",
      "metadata": {
        "id": "view-in-github",
        "colab_type": "text"
      },
      "source": [
        "<a href=\"https://colab.research.google.com/gist/yfmunozn/5fad60eaabc671253eb9d6fac12c4338/ejercicio-2.ipynb\" target=\"_parent\"><img src=\"https://colab.research.google.com/assets/colab-badge.svg\" alt=\"Open In Colab\"/></a>"
      ]
    },
    {
      "cell_type": "markdown",
      "source": [
        "## ejercicio2##\n",
        "## yesid felipe Muñoz##\n"
      ],
      "metadata": {
        "id": "jwaAZ8YFk7y1"
      }
    },
    {
      "cell_type": "markdown",
      "source": [
        " $$y1 =\\log(x) $$"
      ],
      "metadata": {
        "id": "RbT9ZpOQaUj1"
      }
    },
    {
      "cell_type": "code",
      "source": [
        "from math import log10\n",
        "\n",
        "x= float (input('ingrese x:'))\n",
        "if x<0:\n",
        "  print('fuera del dominio de y1')\n",
        "else:\n",
        "  y1=log10(x)\n",
        "  print('y1 es:{:.2f}'.format(y1))"
      ],
      "metadata": {
        "id": "5wH5Xuz1aYKL"
      },
      "execution_count": null,
      "outputs": []
    },
    {
      "cell_type": "markdown",
      "source": [
        "$$y2 =\\log\\sqrt{x}$$"
      ],
      "metadata": {
        "id": "wcqpSml_akS1"
      }
    },
    {
      "cell_type": "code",
      "source": [
        "from math import log10\n",
        "\n",
        "x= float (input('ingrese x:'))\n",
        "if x<=0:\n",
        "  print('no tiene solucion')\n",
        "else:\n",
        "  y2 =log10(x)*(1/2)\n",
        "  print('y2 es:{:.2f}'.format(y2))"
      ],
      "metadata": {
        "id": "hPMP7YazatJK"
      },
      "execution_count": null,
      "outputs": []
    },
    {
      "cell_type": "markdown",
      "source": [
        "$$y3 =\\log\\sqrt{x^2-1}$$"
      ],
      "metadata": {
        "id": "Uwg5Qw6ya70z"
      }
    },
    {
      "cell_type": "code",
      "source": [
        "from math import sqrt\n",
        "\n",
        "x= float (input('ingrese x:'))\n",
        "if (x==0) or (x==-1) or (x==1): \n",
        "  print('fuera del dominio de y3')\n",
        "else:\n",
        "  y3= log10(sqrt((x**2)-1))\n",
        "  print('y3 es:{:.2f}'.format(y3))"
      ],
      "metadata": {
        "id": "sjHirkyxbBQD"
      },
      "execution_count": null,
      "outputs": []
    },
    {
      "cell_type": "markdown",
      "source": [
        "$$y4 =\\frac{\\log(\\sqrt{x-1})}{x^2+1}$$"
      ],
      "metadata": {
        "id": "vnlvRIkMbJa0"
      }
    },
    {
      "cell_type": "code",
      "source": [
        "x = float( input('ingrese x:'))\n",
        "if x<=1:\n",
        " print('fuera del dominio')\n",
        "else:\n",
        "   y4= log10(sqrt(x-1))/((x**2)+1)\n",
        "   print('y2 es: {:.4f}'.format(y4))"
      ],
      "metadata": {
        "colab": {
          "base_uri": "https://localhost:8080/"
        },
        "id": "jbAABFumbRLr",
        "outputId": "7d0ad190-a5a1-41f4-a31c-f23794415f3c"
      },
      "execution_count": 59,
      "outputs": [
        {
          "output_type": "stream",
          "name": "stdout",
          "text": [
            "ingrese x:5\n",
            "y2 es: 0.0116\n"
          ]
        }
      ]
    },
    {
      "cell_type": "markdown",
      "source": [
        " $$y5 =\\frac{x-1}{\\log(x)}$$"
      ],
      "metadata": {
        "id": "bsr9CzgBfHfR"
      }
    },
    {
      "cell_type": "code",
      "source": [
        "x = float( input('ingrese x:'))\n",
        "if x<=1:\n",
        " print('fuera del dominio')\n",
        "else:\n",
        "   y5= (x-1)/log10(x)\n",
        "   print('y5 es: {:.4f}'.format(y5))"
      ],
      "metadata": {
        "colab": {
          "base_uri": "https://localhost:8080/"
        },
        "id": "SGWgJFd9fTHY",
        "outputId": "6d849e20-7233-42b5-a2bf-f74821625444"
      },
      "execution_count": 61,
      "outputs": [
        {
          "output_type": "stream",
          "name": "stdout",
          "text": [
            "ingrese x:3\n",
            "y5 es: 4.1918\n"
          ]
        }
      ]
    },
    {
      "cell_type": "markdown",
      "source": [
        "$$y6 =\\frac{1}{x}+\\sqrt{x-1}$$"
      ],
      "metadata": {
        "id": "nTvL2QPLfTk4"
      }
    },
    {
      "cell_type": "code",
      "source": [
        "x = float( input('ingrese x:'))\n",
        "if x<1:\n",
        " print('fuera del dominio')\n",
        "else:\n",
        "   y6= (1/x)+sqrt(x-1)\n",
        "   print('y6 es: {:.4f}'.format(y6))"
      ],
      "metadata": {
        "colab": {
          "base_uri": "https://localhost:8080/"
        },
        "id": "05VcmoTHfcvp",
        "outputId": "d36e20f2-555c-48f4-e227-116fe6a8d553"
      },
      "execution_count": 62,
      "outputs": [
        {
          "output_type": "stream",
          "name": "stdout",
          "text": [
            "ingrese x:2\n",
            "y6 es: 1.5000\n"
          ]
        }
      ]
    },
    {
      "cell_type": "markdown",
      "source": [
        "$$y7 =\\frac{1}{x}+\\sqrt{x-1}-\\frac{1}{\\log(\\frac{1}{x+1})}$$"
      ],
      "metadata": {
        "id": "L55c3nNAfdNY"
      }
    },
    {
      "cell_type": "code",
      "source": [
        "x = float( input('ingrese x:'))\n",
        "if x<1:\n",
        " print('fuera del dominio')\n",
        "else:\n",
        "   y7= (1/x)+sqrt(x-1)-1/log10(1/(x+1))\n",
        "   print('y7 es: {:.4f}'.format(y7))"
      ],
      "metadata": {
        "colab": {
          "base_uri": "https://localhost:8080/"
        },
        "id": "hIj1ilqZh_YX",
        "outputId": "344d393e-5f54-455b-be97-e591c904100e"
      },
      "execution_count": 63,
      "outputs": [
        {
          "output_type": "stream",
          "name": "stdout",
          "text": [
            "ingrese x:2\n",
            "y7 es: 3.5959\n"
          ]
        }
      ]
    },
    {
      "cell_type": "markdown",
      "source": [
        "$$y8 =\\frac{2}{x^2+1}$$"
      ],
      "metadata": {
        "id": "1JD6mDhGfk3Y"
      }
    },
    {
      "cell_type": "code",
      "source": [
        "x = float( input('ingrese x:'))\n",
        "y8= 2/((x**2)+1)\n",
        "print('y8 es: {:.4f}'.format(y8))"
      ],
      "metadata": {
        "colab": {
          "base_uri": "https://localhost:8080/"
        },
        "id": "ay_pWQEbfkWX",
        "outputId": "90743e6e-dec7-423b-de11-66af3d456994"
      },
      "execution_count": 64,
      "outputs": [
        {
          "output_type": "stream",
          "name": "stdout",
          "text": [
            "ingrese x:4\n",
            "y8 es: 0.1176\n"
          ]
        }
      ]
    },
    {
      "cell_type": "markdown",
      "source": [
        ""
      ],
      "metadata": {
        "id": "UDGdGnWKk51w"
      }
    },
    {
      "cell_type": "markdown",
      "source": [
        "$$y9 =\\frac{1}{n}\\sum_{i=1}^{n}{xi}$$"
      ],
      "metadata": {
        "id": "x235ESCRfpdH"
      }
    },
    {
      "cell_type": "code",
      "source": [
        ""
      ],
      "metadata": {
        "id": "pDXrLHgFfuJn"
      },
      "execution_count": null,
      "outputs": []
    },
    {
      "cell_type": "markdown",
      "source": [
        "$$y10 =\\frac{1}{n-1}\\sum_{i=1}^{n}(xi-\\overline x)^2$$"
      ],
      "metadata": {
        "id": "6zMFVcMpfumX"
      }
    },
    {
      "cell_type": "code",
      "source": [
        ""
      ],
      "metadata": {
        "id": "DzpAsQ7Bfyxg"
      },
      "execution_count": null,
      "outputs": []
    },
    {
      "cell_type": "markdown",
      "source": [
        "$$y11 =\\frac{\\sqrt{y10}}{y9}$$"
      ],
      "metadata": {
        "id": "ue6TpQKmfzFX"
      }
    },
    {
      "cell_type": "code",
      "source": [
        ""
      ],
      "metadata": {
        "id": "cEmE55wQf2yH"
      },
      "execution_count": null,
      "outputs": []
    },
    {
      "cell_type": "markdown",
      "source": [
        "Construya una funcion que returne la varianza de un conjunto de datos (n ≥ 2)\n",
        "cuando se va incorporando dato a dato. Use como primer par de datos los que se\n",
        "generan de la distribuci ́on normal con μ = 3 y s = 0,3.Use la misma semilla y los\n",
        "mismos par ́ametros de la distribuci ́on para incorporar cada dato. Haga el proceso\n",
        "50 veces y luego grafique la varianza como funci ́on de n."
      ],
      "metadata": {
        "id": "QtjFgqi_URUi"
      }
    },
    {
      "cell_type": "code",
      "source": [
        "import math\n",
        "import numpy \n",
        "import random\n",
        "import matplotlib.pyplot as plt\n"
      ],
      "metadata": {
        "id": "w1b3_yxoNtOP"
      },
      "execution_count": 36,
      "outputs": []
    },
    {
      "cell_type": "code",
      "source": [
        "def variance(n):\n",
        "  var = numpy.random.normal(3,0.3,2)\n",
        "  list_var = [var[0], var[1]]\n",
        "  list_g = numpy.random.normal(3,0.3,n)\n",
        "  for i in range(n):\n",
        "    list_var.append(list_g[i])\n",
        "    print( numpy.var(list_var))\n",
        "  import matplotlib.pyplot as plt\n",
        "  plt.plot(list_var, range(n+2), 'pr')\n",
        "  plt.xlabel('Varianza')\n",
        "  plt.ylabel('N')\n",
        "  plt.show()\n"
      ],
      "metadata": {
        "id": "5ELXemIoPD82"
      },
      "execution_count": 48,
      "outputs": []
    },
    {
      "cell_type": "code",
      "source": [
        "variance(50)"
      ],
      "metadata": {
        "colab": {
          "base_uri": "https://localhost:8080/",
          "height": 1000
        },
        "id": "HPCbUImzSwkk",
        "outputId": "774648ae-ee71-4a7a-93e5-f37187d9502c"
      },
      "execution_count": 49,
      "outputs": [
        {
          "output_type": "stream",
          "name": "stdout",
          "text": [
            "0.0009410794677510937\n",
            "0.001041615203154233\n",
            "0.0127091672393938\n",
            "0.02437013263999609\n",
            "0.02403015064225694\n",
            "0.05772820398302264\n",
            "0.05214851453816635\n",
            "0.05651250916523508\n",
            "0.09313148551301484\n",
            "0.08919496398073325\n",
            "0.08233786254769512\n",
            "0.07647606228998031\n",
            "0.0953241727226158\n",
            "0.09125416440557396\n",
            "0.08632378797072694\n",
            "0.08156733493934812\n",
            "0.07727444820144767\n",
            "0.08852817338935112\n",
            "0.08436034485573743\n",
            "0.08187519983700053\n",
            "0.07881765041576135\n",
            "0.0756770214072194\n",
            "0.07561508582416511\n",
            "0.07311612076721177\n",
            "0.07072473526187466\n",
            "0.0730464121016496\n",
            "0.07104871811639525\n",
            "0.07507585335545922\n",
            "0.08120440917269701\n",
            "0.07877568366346989\n",
            "0.07641528241769378\n",
            "0.07598370377776963\n",
            "0.07383200019786379\n",
            "0.07568862432072336\n",
            "0.08443976447345744\n",
            "0.08253945794680358\n",
            "0.08048504395324045\n",
            "0.07914636078277279\n",
            "0.07732352570172915\n",
            "0.07734725074128261\n",
            "0.07555153441891437\n",
            "0.07652538980650594\n",
            "0.07488024728248671\n",
            "0.07336236320082275\n",
            "0.07559561548863554\n",
            "0.07435863220045631\n",
            "0.08230016575233379\n",
            "0.08510398532197534\n",
            "0.08485977033000716\n",
            "0.09181068633610885\n"
          ]
        },
        {
          "output_type": "display_data",
          "data": {
            "text/plain": [
              "<Figure size 432x288 with 1 Axes>"
            ],
            "image/png": "[encoded data removed]"
          },
          "metadata": {
            "needs_background": "light"
          }
        }
      ]
    },
    {
      "cell_type": "code",
      "source": [
        ""
      ],
      "metadata": {
        "id": "LKyLAZmVUPAx"
      },
      "execution_count": null,
      "outputs": []
    },
    {
      "cell_type": "markdown",
      "source": [
        "La cantidad de radiaci ́on absorbida puede medirse por la transmitancia. La re-\n",
        "laci ́on entre transmitancia (T) y absorbancia (A) est ́a dada por la ley Beer-\n",
        "Lambert (ley de Beer). Cree una funci ́on para la expresi ́on que aparece en\n",
        "\n",
        "https : //www.electrical4u.com/what − is − transmittance/ y genere unos datos\n",
        "de T para determinar A. Grafique la funci ́on. Finalmente lea la secci ́on titulada:\n",
        "✭✭Why is Absorbance the Preferred Unit Over Transmittance?✮✮"
      ],
      "metadata": {
        "id": "bmzCS9aZUZcR"
      }
    },
    {
      "cell_type": "code",
      "source": [
        "def absorbance(T, *args, **kwargs):\n",
        "    if str(type(T))[8:12] != 'list':\n",
        "        return f'ingresar lista de transmitancias'\n",
        "    else:\n",
        "        import matplotlib.pyplot as plt\n",
        "        import math\n",
        "        transmittance = []\n",
        "        absorbance = []\n",
        "        for i in range(len(T)):\n",
        "            transmittance.append(T[i])\n",
        "            A = 2 - math.log10(T[i])\n",
        "            absorbance.append(A)\n",
        "        plt.plot(absorbance, transmittance, 'pr') \n",
        "        plt.title('Absorbancia vs transmmitancia')  \n",
        "        plt.xlabel('Absorvancia')\n",
        "        plt.ylabel('trasmitancia') \n",
        "        plt.show()\n"
      ],
      "metadata": {
        "id": "HqTnLqDaUdoh"
      },
      "execution_count": 50,
      "outputs": []
    },
    {
      "cell_type": "code",
      "source": [
        "import numpy"
      ],
      "metadata": {
        "id": "7CNGQMOEY0ke"
      },
      "execution_count": 51,
      "outputs": []
    },
    {
      "cell_type": "code",
      "source": [
        "T = numpy.random.uniform(50,100,100)\n",
        "absorbance(T =list(T))"
      ],
      "metadata": {
        "colab": {
          "base_uri": "https://localhost:8080/",
          "height": 295
        },
        "id": "Sbqtf7UbY31V",
        "outputId": "813b1b23-30db-41cc-e2d1-2dba4b1a2a85"
      },
      "execution_count": 53,
      "outputs": [
        {
          "output_type": "display_data",
          "data": {
            "text/plain": [
              "<Figure size 432x288 with 1 Axes>"
            ],
            "image/png": "[encoded data removed]"
          },
          "metadata": {
            "needs_background": "light"
          }
        }
      ]
    },
    {
      "cell_type": "markdown",
      "source": [
        ""
      ],
      "metadata": {
        "id": "NAWstePJR_h0"
      }
    }
  ]
}